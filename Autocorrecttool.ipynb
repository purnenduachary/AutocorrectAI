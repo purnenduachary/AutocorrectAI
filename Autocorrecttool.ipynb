{
 "cells": [
  {
   "cell_type": "code",
   "execution_count": 1,
   "id": "638b53db",
   "metadata": {},
   "outputs": [
    {
     "name": "stderr",
     "output_type": "stream",
     "text": [
      "[nltk_data] Downloading package words to\n",
      "[nltk_data]     C:\\Users\\PURNENDU\\AppData\\Roaming\\nltk_data...\n",
      "[nltk_data]   Package words is already up-to-date!\n"
     ]
    },
    {
     "name": "stdout",
     "output_type": "stream",
     "text": [
      "Enter a word: aoroplanea\n",
      "Did you mean: aeroplane?\n"
     ]
    }
   ],
   "source": [
    "import nltk\n",
    "from nltk.corpus import words\n",
    "nltk.download('words')\n",
    "correct_spellings = words.words()\n",
    "\n",
    "from nltk.metrics.distance import edit_distance\n",
    "\n",
    "def suggest_word(word):\n",
    "    distances = ((edit_distance(word, correct_word), correct_word) for correct_word in correct_spellings)\n",
    "    closest = min(distances)\n",
    "    return closest[1]\n",
    "\n",
    "word = input('Enter a word: ')\n",
    "suggestion = suggest_word(word)\n",
    "print(f'Did you mean: {suggestion}?')"
   ]
  },
  {
   "cell_type": "code",
   "execution_count": null,
   "id": "da959149",
   "metadata": {},
   "outputs": [],
   "source": []
  }
 ],
 "metadata": {
  "kernelspec": {
   "display_name": "Python 3 (ipykernel)",
   "language": "python",
   "name": "python3"
  },
  "language_info": {
   "codemirror_mode": {
    "name": "ipython",
    "version": 3
   },
   "file_extension": ".py",
   "mimetype": "text/x-python",
   "name": "python",
   "nbconvert_exporter": "python",
   "pygments_lexer": "ipython3",
   "version": "3.10.9"
  }
 },
 "nbformat": 4,
 "nbformat_minor": 5
}
